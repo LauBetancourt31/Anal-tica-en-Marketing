{
  "nbformat": 4,
  "nbformat_minor": 0,
  "metadata": {
    "colab": {
      "provenance": []
    },
    "kernelspec": {
      "name": "python3",
      "display_name": "Python 3"
    },
    "language_info": {
      "name": "python"
    }
  },
  "cells": [
    {
      "cell_type": "code",
      "execution_count": null,
      "metadata": {
        "id": "Gvft76QyH7Q4"
      },
      "outputs": [],
      "source": [
        "import numpy as np\n",
        "import pandas as pd\n",
        "import sqlite3 as sql\n",
        "from sklearn.preprocessing import MinMaxScaler\n",
        "from ipywidgets import interact ## para análisis interactivo\n",
        "from sklearn import neighbors ### basado en contenido un solo producto consumido\n",
        "import joblib\n",
        "#### conectar_base_de_Datos\n",
        "\n",
        "conn=sql.connect('data\\\\db_books2')\n",
        "cur=conn.cursor()\n",
        "\n",
        "#### ver tablas disponibles en base de datos ###\n",
        "\n",
        "cur.execute(\"SELECT name FROM sqlite_master WHERE type='table';\")\n",
        "cur.fetchall()"
      ]
    },
    {
      "cell_type": "code",
      "source": [
        "######################################################################\n",
        "################## 1. sistemas basados en popularidad ###############\n",
        "#####################################################################"
      ],
      "metadata": {
        "id": "ErciRq3mIDDm"
      },
      "execution_count": null,
      "outputs": []
    },
    {
      "cell_type": "code",
      "source": [
        "##### recomendaciones basado en popularidad ######\n",
        "## peliculas vistas por más de 20 personas\n",
        "pd.read_sql(\"\"\"SELECT movie_title,\n",
        "                avg(rating) as avg_rat,\n",
        "                count(*) as movie_num\n",
        "                FROM full_ratings\n",
        "                WHERE rating <> 0\n",
        "                GROUP BY movie_title\n",
        "                HAVING count(*) >= 20\n",
        "                ORDER BY avg_rat DESC, movie_num DESC\n",
        "                LIMIT 10\"\"\", conn)"
      ],
      "metadata": {
        "id": "V2a5T9tZID_-"
      },
      "execution_count": null,
      "outputs": []
    },
    {
      "cell_type": "code",
      "source": [
        "#### los mejores calificados por año publicacion ###\n",
        "pd.read_sql(\"\"\"SELECT Año, movie_title, num_vistas\n",
        "                FROM (\n",
        "                    SELECT\n",
        "                        strftime('%Y', fecha_nueva) AS Año,\n",
        "                        movie_title,\n",
        "                        ROW_NUMBER() OVER(PARTITION BY strftime('%Y', fecha_nueva) ORDER BY COUNT(*) DESC) AS row_num,\n",
        "                        MAX(COUNT(*)) OVER(PARTITION BY strftime('%Y', fecha_nueva)) AS num_vistas\n",
        "                    FROM full_ratings\n",
        "                    GROUP BY strftime('%Y', fecha_nueva), movie_title) AS subquery\n",
        "                WHERE row_num = 1\n",
        "                ORDER BY Año;\"\"\", conn)"
      ],
      "metadata": {
        "id": "RrOVdD_CItQx"
      },
      "execution_count": null,
      "outputs": []
    },
    {
      "cell_type": "code",
      "source": [],
      "metadata": {
        "id": "KqUULh-cIwix"
      },
      "execution_count": null,
      "outputs": []
    }
  ]
}