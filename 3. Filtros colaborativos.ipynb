{
  "cells": [
    {
      "cell_type": "code",
      "execution_count": 3,
      "metadata": {
        "id": "Gq8qMDTVc2OW"
      },
      "outputs": [
        {
          "data": {
            "text/plain": [
              "[('ratings',),\n",
              " ('movies',),\n",
              " ('usuarios_sel',),\n",
              " ('movies_sel',),\n",
              " ('ratings_final',),\n",
              " ('movies_final',),\n",
              " ('full_ratings',),\n",
              " ('f_ratings',)]"
            ]
          },
          "execution_count": 3,
          "metadata": {},
          "output_type": "execute_result"
        }
      ],
      "source": [
        "import numpy as np\n",
        "import pandas as pd\n",
        "import sqlite3 as sql\n",
        "from sklearn.preprocessing import MinMaxScaler\n",
        "from ipywidgets import interact # para análisis interactivo\n",
        "from sklearn import neighbors # basado en contenido un solo producto consumido\n",
        "import joblib\n",
        "\n",
        "from surprise import Reader, Dataset\n",
        "from surprise.model_selection import cross_validate, GridSearchCV\n",
        "from surprise import KNNBasic, KNNWithMeans, KNNWithZScore, KNNBaseline\n",
        "from surprise.model_selection import train_test_split\n",
        "\n",
        "# conectar base de datos\n",
        "conn = sql.connect('Data/movies2.db')\n",
        "cur = conn.cursor()\n",
        "\n",
        "# ver tablas disponibles en base de datos ###\n",
        "cur.execute(\"SELECT name FROM sqlite_master WHERE type='table';\")\n",
        "cur.fetchall()"
      ]
    },
    {
      "cell_type": "code",
      "execution_count": 5,
      "metadata": {
        "id": "9t78Z4d_c5oL"
      },
      "outputs": [
        {
          "name": "stdout",
          "output_type": "stream",
          "text": [
            "<class 'pandas.core.frame.DataFrame'>\n",
            "RangeIndex: 45425 entries, 0 to 45424\n",
            "Data columns (total 9 columns):\n",
            " #   Column        Non-Null Count  Dtype  \n",
            "---  ------        --------------  -----  \n",
            " 0   user_id       45425 non-null  int64  \n",
            " 1   movie_id      45425 non-null  int64  \n",
            " 2   rating        45425 non-null  float64\n",
            " 3   timestamp     45425 non-null  int64  \n",
            " 4   movie_title   45425 non-null  object \n",
            " 5   movie_genres  45425 non-null  object \n",
            " 6   fecha_nueva   45425 non-null  object \n",
            " 7   movie_year    45425 non-null  int64  \n",
            " 8   clean_title   45425 non-null  object \n",
            "dtypes: float64(1), int64(4), object(4)\n",
            "memory usage: 3.1+ MB\n"
          ]
        }
      ],
      "source": [
        "df = pd.read_sql(\"SELECT * FROM f_ratings\", conn)\n",
        "df.info()"
      ]
    },
    {
      "cell_type": "markdown",
      "metadata": {},
      "source": [
        "# <b>3. Sistema de recomendación filtro colaborativo</b>\n",
        "Se identifican usuarios que han calificado las mismas películas que el usuario en las últimas semanas. Se recomiendan las películas vistas recientemente por estos usuarios.<br>\n",
        "Este sistema identifica usuarios que han calificado las mismas películas que el usuario principal durante las últimas semanas. A partir de esa coincidencia, se recomiendan las 10 películas que esos usuarios han visto recientemente y que el usuario aún no ha explorado. Al utilizar la actividad reciente de otros usuarios con gustos similares, el sistema ofrece recomendaciones más personalizadas y adaptadas a las preferencias actuales del usuario.<br> La frecuencia de actualización es semanal, asegurando que las recomendaciones reflejen las últimas interacciones tanto del usuario principal como de los usuarios que comparten preferencias similares. Además, el sistema se ajusta automáticamente para excluir las películas que el usuario ya ha visto."
      ]
    },
    {
      "cell_type": "code",
      "execution_count": 15,
      "metadata": {},
      "outputs": [],
      "source": [
        "ratings = pd.read_sql(\"SELECT * FROM f_ratings where rating>0\", conn)\n",
        "\n",
        "# los datos deben ser leídos en un formato especial para surprise\n",
        "reader = Reader(rating_scale=(0.5,5))   # la escala de la calificación\n",
        "# las columnas deben estar en orden estándar: user item rating\n",
        "data = Dataset.load_from_df(ratings[['user_id','movie_id','rating']], reader)"
      ]
    },
    {
      "cell_type": "code",
      "execution_count": 18,
      "metadata": {},
      "outputs": [
        {
          "data": {
            "text/html": [
              "<div>\n",
              "<style scoped>\n",
              "    .dataframe tbody tr th:only-of-type {\n",
              "        vertical-align: middle;\n",
              "    }\n",
              "\n",
              "    .dataframe tbody tr th {\n",
              "        vertical-align: top;\n",
              "    }\n",
              "\n",
              "    .dataframe thead th {\n",
              "        text-align: right;\n",
              "    }\n",
              "</style>\n",
              "<table border=\"1\" class=\"dataframe\">\n",
              "  <thead>\n",
              "    <tr style=\"text-align: right;\">\n",
              "      <th></th>\n",
              "      <th>MAE</th>\n",
              "      <th>RMSE</th>\n",
              "      <th>fit_time</th>\n",
              "      <th>test_time</th>\n",
              "    </tr>\n",
              "  </thead>\n",
              "  <tbody>\n",
              "    <tr>\n",
              "      <th>knns.KNNBaseline</th>\n",
              "      <td>0.643621</td>\n",
              "      <td>0.846066</td>\n",
              "      <td>0.316172</td>\n",
              "      <td>1.907523</td>\n",
              "    </tr>\n",
              "    <tr>\n",
              "      <th>knns.KNNWithZScore</th>\n",
              "      <td>0.648014</td>\n",
              "      <td>0.854598</td>\n",
              "      <td>0.292469</td>\n",
              "      <td>1.697138</td>\n",
              "    </tr>\n",
              "    <tr>\n",
              "      <th>knns.KNNWithMeans</th>\n",
              "      <td>0.651384</td>\n",
              "      <td>0.855646</td>\n",
              "      <td>0.235258</td>\n",
              "      <td>1.589296</td>\n",
              "    </tr>\n",
              "    <tr>\n",
              "      <th>knns.KNNBasic</th>\n",
              "      <td>0.690748</td>\n",
              "      <td>0.907492</td>\n",
              "      <td>0.306231</td>\n",
              "      <td>1.421164</td>\n",
              "    </tr>\n",
              "  </tbody>\n",
              "</table>\n",
              "</div>"
            ],
            "text/plain": [
              "                          MAE      RMSE  fit_time  test_time\n",
              "knns.KNNBaseline     0.643621  0.846066  0.316172   1.907523\n",
              "knns.KNNWithZScore   0.648014  0.854598  0.292469   1.697138\n",
              "knns.KNNWithMeans    0.651384  0.855646  0.235258   1.589296\n",
              "knns.KNNBasic        0.690748  0.907492  0.306231   1.421164"
            ]
          },
          "execution_count": 18,
          "metadata": {},
          "output_type": "execute_result"
        }
      ],
      "source": [
        "# Lista con los modelos\n",
        "models = [KNNBasic(),KNNWithMeans(),KNNWithZScore(),KNNBaseline()]\n",
        "results = {}\n",
        "\n",
        "# for para probar varios modelos\n",
        "model = models[1]\n",
        "for model in models:\n",
        "    CV_scores = cross_validate(model, data, measures=[\"MAE\",\"RMSE\"], cv=5, n_jobs=-1)\n",
        "    result = pd.DataFrame.from_dict(CV_scores).mean(axis=0).\\\n",
        "             rename({'test_mae':'MAE', 'test_rmse': 'RMSE'})\n",
        "    results[str(model).split(\"algorithms.\")[1].split(\"object \")[0]] = result\n",
        "\n",
        "performance_df = pd.DataFrame.from_dict(results).T\n",
        "performance_df.sort_values(by='RMSE')"
      ]
    },
    {
      "cell_type": "markdown",
      "metadata": {},
      "source": [
        "<i>KNNBaseline</i>: calcula el desvío de cada calificación con respecto al promedio y con base en esos calculan la ponderación,<br>se ecoge este modelo ya que tiene el menor valor tanto en MAE como en RMSE, lo que indica que, en promedio, este modelo realiza las predicciones con menor error en comparación con los otros modelos."
      ]
    }
  ],
  "metadata": {
    "colab": {
      "provenance": []
    },
    "kernelspec": {
      "display_name": "base",
      "language": "python",
      "name": "python3"
    },
    "language_info": {
      "codemirror_mode": {
        "name": "ipython",
        "version": 3
      },
      "file_extension": ".py",
      "mimetype": "text/x-python",
      "name": "python",
      "nbconvert_exporter": "python",
      "pygments_lexer": "ipython3",
      "version": "3.12.3"
    }
  },
  "nbformat": 4,
  "nbformat_minor": 0
}
