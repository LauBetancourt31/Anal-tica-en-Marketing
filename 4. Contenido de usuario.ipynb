{
  "cells": [
    {
      "cell_type": "code",
      "execution_count": 2,
      "metadata": {
        "id": "Gq8qMDTVc2OW"
      },
      "outputs": [],
      "source": [
        "import numpy as np\n",
        "import pandas as pd\n",
        "import sqlite3 as sql\n",
        "from sklearn.preprocessing import MinMaxScaler\n",
        "from ipywidgets import interact # para análisis interactivo\n",
        "from sklearn import neighbors # basado en contenido un solo producto consumido\n",
        "import joblib\n",
        "\n",
        "from surprise import Reader, Dataset\n",
        "from surprise.model_selection import cross_validate, GridSearchCV\n",
        "from surprise import KNNBasic, KNNWithMeans, KNNWithZScore, KNNBaseline\n",
        "from surprise.model_selection import train_test_split"
      ]
    },
    {
      "cell_type": "code",
      "execution_count": 12,
      "metadata": {},
      "outputs": [
        {
          "data": {
            "text/plain": [
              "[('ratings',),\n",
              " ('movies',),\n",
              " ('reco',),\n",
              " ('usuarios_sel',),\n",
              " ('movies_sel',),\n",
              " ('movies_m',),\n",
              " ('ratings_final',),\n",
              " ('full_ratings',),\n",
              " ('f_ratings',)]"
            ]
          },
          "execution_count": 12,
          "metadata": {},
          "output_type": "execute_result"
        }
      ],
      "source": [
        "# conectar base de datos\n",
        "conn=sql.connect('Data/movies2.db')\n",
        "cur=conn.cursor()\n",
        "\n",
        "# ver tablas disponibles en base de datos ###\n",
        "cur.execute(\"SELECT name FROM sqlite_master WHERE type='table';\")\n",
        "cur.fetchall()"
      ]
    },
    {
      "cell_type": "code",
      "execution_count": 13,
      "metadata": {
        "id": "9t78Z4d_c5oL"
      },
      "outputs": [
        {
          "name": "stdout",
          "output_type": "stream",
          "text": [
            "<class 'pandas.core.frame.DataFrame'>\n",
            "RangeIndex: 45425 entries, 0 to 45424\n",
            "Data columns (total 9 columns):\n",
            " #   Column        Non-Null Count  Dtype  \n",
            "---  ------        --------------  -----  \n",
            " 0   user_id       45425 non-null  int64  \n",
            " 1   movie_id      45425 non-null  int64  \n",
            " 2   rating        45425 non-null  float64\n",
            " 3   timestamp     45425 non-null  int64  \n",
            " 4   movie_title   45425 non-null  object \n",
            " 5   movie_genres  45425 non-null  object \n",
            " 6   clean_title   45425 non-null  object \n",
            " 7   movie_year    45425 non-null  int64  \n",
            " 8   fecha_nueva   45425 non-null  object \n",
            "dtypes: float64(1), int64(4), object(4)\n",
            "memory usage: 3.1+ MB\n"
          ]
        }
      ],
      "source": [
        "df = pd.read_sql(\"SELECT * FROM f_ratings\", conn)\n",
        "df.info()"
      ]
    },
    {
      "cell_type": "code",
      "execution_count": 14,
      "metadata": {},
      "outputs": [
        {
          "data": {
            "text/html": [
              "<div>\n",
              "<style scoped>\n",
              "    .dataframe tbody tr th:only-of-type {\n",
              "        vertical-align: middle;\n",
              "    }\n",
              "\n",
              "    .dataframe tbody tr th {\n",
              "        vertical-align: top;\n",
              "    }\n",
              "\n",
              "    .dataframe thead th {\n",
              "        text-align: right;\n",
              "    }\n",
              "</style>\n",
              "<table border=\"1\" class=\"dataframe\">\n",
              "  <thead>\n",
              "    <tr style=\"text-align: right;\">\n",
              "      <th></th>\n",
              "      <th>user_id</th>\n",
              "      <th>movie_id</th>\n",
              "      <th>rating</th>\n",
              "      <th>timestamp</th>\n",
              "      <th>movie_title</th>\n",
              "      <th>movie_genres</th>\n",
              "      <th>clean_title</th>\n",
              "      <th>movie_year</th>\n",
              "      <th>fecha_nueva</th>\n",
              "    </tr>\n",
              "  </thead>\n",
              "  <tbody>\n",
              "    <tr>\n",
              "      <th>0</th>\n",
              "      <td>1</td>\n",
              "      <td>1</td>\n",
              "      <td>4.0</td>\n",
              "      <td>964982703</td>\n",
              "      <td>Toy Story (1995)</td>\n",
              "      <td>Adventure|Animation|Children|Comedy|Fantasy</td>\n",
              "      <td>Toy Story</td>\n",
              "      <td>1995</td>\n",
              "      <td>2000-07-30</td>\n",
              "    </tr>\n",
              "    <tr>\n",
              "      <th>1</th>\n",
              "      <td>1</td>\n",
              "      <td>3</td>\n",
              "      <td>4.0</td>\n",
              "      <td>964981247</td>\n",
              "      <td>Grumpier Old Men (1995)</td>\n",
              "      <td>Comedy|Romance</td>\n",
              "      <td>Grumpier Old Men</td>\n",
              "      <td>1995</td>\n",
              "      <td>2000-07-30</td>\n",
              "    </tr>\n",
              "    <tr>\n",
              "      <th>2</th>\n",
              "      <td>1</td>\n",
              "      <td>6</td>\n",
              "      <td>4.0</td>\n",
              "      <td>964982224</td>\n",
              "      <td>Heat (1995)</td>\n",
              "      <td>Action|Crime|Thriller</td>\n",
              "      <td>Heat</td>\n",
              "      <td>1995</td>\n",
              "      <td>2000-07-30</td>\n",
              "    </tr>\n",
              "    <tr>\n",
              "      <th>3</th>\n",
              "      <td>1</td>\n",
              "      <td>47</td>\n",
              "      <td>5.0</td>\n",
              "      <td>964983815</td>\n",
              "      <td>Seven (a.k.a. Se7en) (1995)</td>\n",
              "      <td>Mystery|Thriller</td>\n",
              "      <td>Seven</td>\n",
              "      <td>0</td>\n",
              "      <td>2000-07-30</td>\n",
              "    </tr>\n",
              "    <tr>\n",
              "      <th>4</th>\n",
              "      <td>1</td>\n",
              "      <td>50</td>\n",
              "      <td>5.0</td>\n",
              "      <td>964982931</td>\n",
              "      <td>Usual Suspects, The (1995)</td>\n",
              "      <td>Crime|Mystery|Thriller</td>\n",
              "      <td>Usual Suspects, The</td>\n",
              "      <td>1995</td>\n",
              "      <td>2000-07-30</td>\n",
              "    </tr>\n",
              "    <tr>\n",
              "      <th>...</th>\n",
              "      <td>...</td>\n",
              "      <td>...</td>\n",
              "      <td>...</td>\n",
              "      <td>...</td>\n",
              "      <td>...</td>\n",
              "      <td>...</td>\n",
              "      <td>...</td>\n",
              "      <td>...</td>\n",
              "      <td>...</td>\n",
              "    </tr>\n",
              "    <tr>\n",
              "      <th>45420</th>\n",
              "      <td>609</td>\n",
              "      <td>589</td>\n",
              "      <td>3.0</td>\n",
              "      <td>847220990</td>\n",
              "      <td>Terminator 2: Judgment Day (1991)</td>\n",
              "      <td>Action|Sci-Fi</td>\n",
              "      <td>Terminator 2: Judgment Day</td>\n",
              "      <td>1991</td>\n",
              "      <td>1996-11-05</td>\n",
              "    </tr>\n",
              "    <tr>\n",
              "      <th>45421</th>\n",
              "      <td>609</td>\n",
              "      <td>590</td>\n",
              "      <td>4.0</td>\n",
              "      <td>847220802</td>\n",
              "      <td>Dances with Wolves (1990)</td>\n",
              "      <td>Adventure|Drama|Western</td>\n",
              "      <td>Dances with Wolves</td>\n",
              "      <td>1990</td>\n",
              "      <td>1996-11-05</td>\n",
              "    </tr>\n",
              "    <tr>\n",
              "      <th>45422</th>\n",
              "      <td>609</td>\n",
              "      <td>592</td>\n",
              "      <td>3.0</td>\n",
              "      <td>847220802</td>\n",
              "      <td>Batman (1989)</td>\n",
              "      <td>Action|Crime|Thriller</td>\n",
              "      <td>Batman</td>\n",
              "      <td>1989</td>\n",
              "      <td>1996-11-05</td>\n",
              "    </tr>\n",
              "    <tr>\n",
              "      <th>45423</th>\n",
              "      <td>609</td>\n",
              "      <td>786</td>\n",
              "      <td>3.0</td>\n",
              "      <td>847221025</td>\n",
              "      <td>Eraser (1996)</td>\n",
              "      <td>Action|Drama|Thriller</td>\n",
              "      <td>Eraser</td>\n",
              "      <td>1996</td>\n",
              "      <td>1996-11-05</td>\n",
              "    </tr>\n",
              "    <tr>\n",
              "      <th>45424</th>\n",
              "      <td>609</td>\n",
              "      <td>1059</td>\n",
              "      <td>3.0</td>\n",
              "      <td>847221054</td>\n",
              "      <td>William Shakespeare's Romeo + Juliet (1996)</td>\n",
              "      <td>Drama|Romance</td>\n",
              "      <td>William Shakespeare's Romeo + Juliet</td>\n",
              "      <td>1996</td>\n",
              "      <td>1996-11-05</td>\n",
              "    </tr>\n",
              "  </tbody>\n",
              "</table>\n",
              "<p>45425 rows × 9 columns</p>\n",
              "</div>"
            ],
            "text/plain": [
              "       user_id  movie_id  rating  timestamp  \\\n",
              "0            1         1     4.0  964982703   \n",
              "1            1         3     4.0  964981247   \n",
              "2            1         6     4.0  964982224   \n",
              "3            1        47     5.0  964983815   \n",
              "4            1        50     5.0  964982931   \n",
              "...        ...       ...     ...        ...   \n",
              "45420      609       589     3.0  847220990   \n",
              "45421      609       590     4.0  847220802   \n",
              "45422      609       592     3.0  847220802   \n",
              "45423      609       786     3.0  847221025   \n",
              "45424      609      1059     3.0  847221054   \n",
              "\n",
              "                                       movie_title  \\\n",
              "0                                 Toy Story (1995)   \n",
              "1                          Grumpier Old Men (1995)   \n",
              "2                                      Heat (1995)   \n",
              "3                      Seven (a.k.a. Se7en) (1995)   \n",
              "4                       Usual Suspects, The (1995)   \n",
              "...                                            ...   \n",
              "45420            Terminator 2: Judgment Day (1991)   \n",
              "45421                    Dances with Wolves (1990)   \n",
              "45422                                Batman (1989)   \n",
              "45423                                Eraser (1996)   \n",
              "45424  William Shakespeare's Romeo + Juliet (1996)   \n",
              "\n",
              "                                      movie_genres  \\\n",
              "0      Adventure|Animation|Children|Comedy|Fantasy   \n",
              "1                                   Comedy|Romance   \n",
              "2                            Action|Crime|Thriller   \n",
              "3                                 Mystery|Thriller   \n",
              "4                           Crime|Mystery|Thriller   \n",
              "...                                            ...   \n",
              "45420                                Action|Sci-Fi   \n",
              "45421                      Adventure|Drama|Western   \n",
              "45422                        Action|Crime|Thriller   \n",
              "45423                        Action|Drama|Thriller   \n",
              "45424                                Drama|Romance   \n",
              "\n",
              "                                clean_title  movie_year fecha_nueva  \n",
              "0                                 Toy Story        1995  2000-07-30  \n",
              "1                          Grumpier Old Men        1995  2000-07-30  \n",
              "2                                      Heat        1995  2000-07-30  \n",
              "3                                     Seven           0  2000-07-30  \n",
              "4                       Usual Suspects, The        1995  2000-07-30  \n",
              "...                                     ...         ...         ...  \n",
              "45420            Terminator 2: Judgment Day        1991  1996-11-05  \n",
              "45421                    Dances with Wolves        1990  1996-11-05  \n",
              "45422                                Batman        1989  1996-11-05  \n",
              "45423                                Eraser        1996  1996-11-05  \n",
              "45424  William Shakespeare's Romeo + Juliet        1996  1996-11-05  \n",
              "\n",
              "[45425 rows x 9 columns]"
            ]
          },
          "execution_count": 14,
          "metadata": {},
          "output_type": "execute_result"
        }
      ],
      "source": [
        "df"
      ]
    },
    {
      "cell_type": "markdown",
      "metadata": {},
      "source": [
        "# <b>4. Sistemas de recomendación basado en el contenido de cada usuario</b>\n",
        "Este sistema se enfoca en analizar las interacciones pasadas de cada usuario con las películas para generar recomendaciones ajustadas a sus preferencias individuales. Utiliza el historial de visualización y las calificaciones otorgadas por el usuario para identificar patrones y gustos específicos. A partir de este análisis, el sistema sugiere películas que son más propensas a interesar al usuario, asegurando una experiencia de visualización más satisfactoria. \n",
        "La frecuencia de actualización de estas recomendaciones es mensual, lo que permite que el sistema tenga tiempo suficiente para detectar cambios en las preferencias del usuario. Este enfoque asegura que las recomendaciones sean relevantes y continúen mejorando a lo largo del tiempo, adaptándose a las nuevas elecciones y tendencias de visualización del usuario."
      ]
    },
    {
      "cell_type": "code",
      "execution_count": 15,
      "metadata": {},
      "outputs": [
        {
          "name": "stdout",
          "output_type": "stream",
          "text": [
            "<class 'pandas.core.frame.DataFrame'>\n",
            "RangeIndex: 45425 entries, 0 to 45424\n",
            "Data columns (total 5 columns):\n",
            " #   Column        Non-Null Count  Dtype \n",
            "---  ------        --------------  ----- \n",
            " 0   movie_id      45425 non-null  int64 \n",
            " 1   timestamp     45425 non-null  int64 \n",
            " 2   movie_genres  45425 non-null  object\n",
            " 3   clean_title   45425 non-null  object\n",
            " 4   movie_year    45425 non-null  int64 \n",
            "dtypes: int64(3), object(2)\n",
            "memory usage: 1.7+ MB\n"
          ]
        }
      ],
      "source": [
        "# Eliminar las columnas del DataFrame\n",
        "movies = df.drop(columns=['user_id','rating', 'movie_title','fecha_nueva'])\n",
        "movies.info()"
      ]
    },
    {
      "cell_type": "code",
      "execution_count": 16,
      "metadata": {},
      "outputs": [],
      "source": [
        "# Eliminar duplicados basados en la columna 'movie_clean_title'\n",
        "movies = movies.drop_duplicates(subset=['clean_title'])\n",
        "movies.reset_index(drop=True, inplace=True)"
      ]
    },
    {
      "cell_type": "code",
      "execution_count": 17,
      "metadata": {},
      "outputs": [],
      "source": [
        "#### seleccionar usuario para recomendaciones ####\n",
        "usuarios = pd.read_sql('select distinct (user_id) as user_id from ratings_final',conn)"
      ]
    },
    {
      "cell_type": "code",
      "execution_count": 18,
      "metadata": {},
      "outputs": [
        {
          "name": "stdout",
          "output_type": "stream",
          "text": [
            "     movie_id   timestamp                                 movie_genres  \\\n",
            "0           1   964982703  Adventure|Animation|Children|Comedy|Fantasy   \n",
            "1           3   964981247                               Comedy|Romance   \n",
            "2           6   964982224                        Action|Crime|Thriller   \n",
            "3          47   964983815                             Mystery|Thriller   \n",
            "4          50   964982931                       Crime|Mystery|Thriller   \n",
            "..        ...         ...                                          ...   \n",
            "852      6754  1113190465                        Action|Fantasy|Horror   \n",
            "853      1172  1355184567                                        Drama   \n",
            "854      8807  1464275372                             Adventure|Comedy   \n",
            "855     45720  1464197299                                 Comedy|Drama   \n",
            "856      4015  1084466683                                Comedy|Sci-Fi   \n",
            "\n",
            "                             clean_title  movie_year  \n",
            "0                              Toy Story        1995  \n",
            "1                       Grumpier Old Men        1995  \n",
            "2                                   Heat        1995  \n",
            "3                                  Seven           0  \n",
            "4                    Usual Suspects, The        1995  \n",
            "..                                   ...         ...  \n",
            "852                           Underworld        2003  \n",
            "853                      Cinema Paradiso           0  \n",
            "854  Harold and Kumar Go to White Castle        2004  \n",
            "855               Devil Wears Prada, The        2006  \n",
            "856                Dude, Where's My Car?        2000  \n",
            "\n",
            "[857 rows x 5 columns]\n"
          ]
        }
      ],
      "source": [
        "# Configurar pandas para mostrar todas las columnas\n",
        "pd.set_option('display.max_columns', None)\n",
        "\n",
        "# Ver el DataFrame\n",
        "print(movies)"
      ]
    },
    {
      "cell_type": "code",
      "execution_count": 19,
      "metadata": {},
      "outputs": [
        {
          "data": {
            "text/plain": [
              "(857, 1159)"
            ]
          },
          "execution_count": 19,
          "metadata": {},
          "output_type": "execute_result"
        }
      ],
      "source": [
        "#### convertir a dummies\n",
        "#### convertir a dummies\n",
        "\n",
        "movies['clean_title'].nunique()\n",
        "movies['movie_genres'].nunique()\n",
        "\n",
        "col_dum=['clean_title','movie_genres']\n",
        "dummies2=pd.get_dummies(movies,columns=col_dum)\n",
        "dummies2.shape"
      ]
    },
    {
      "cell_type": "code",
      "execution_count": 20,
      "metadata": {},
      "outputs": [],
      "source": [
        "def recomendar(user_id=list(usuarios['user_id'].value_counts().index)):\n",
        "\n",
        "    ###seleccionar solo los ratings del usuario seleccionado\n",
        "    ratings = pd.read_sql('select * from ratings_final where user_id=:user',conn, params={'user':user_id,})\n",
        "\n",
        "    ###convertir ratings del usuario a array\n",
        "    l_peliculas_s = ratings['movie_id'].to_numpy()\n",
        "\n",
        "    ###agregar la columna de movieID de la pelicula a dummie para filtrar y mostrar nombre\n",
        "    dummies2[['movie_id', 'clean_title']] = movies[['movie_id', 'clean_title']]\n",
        "\n",
        "    ### filtrar libros calificados por el usuario\n",
        "    peliculas_s = dummies2[dummies2['movie_id'].isin(l_peliculas_s)]\n",
        "\n",
        "    ## eliminar columna nombre\n",
        "    peliculas_s = peliculas_s.drop(columns=['movie_id','clean_title'])\n",
        "    peliculas_s[\"indice\"] = 1\n",
        "\n",
        "    ##centroide o perfil del usuario\n",
        "    centroide = peliculas_s.groupby(\"indice\").mean()\n",
        "\n",
        "    ### filtrar las peliculas no vistas\n",
        "    peliculas_ns = dummies2[~dummies2['movie_id'].isin(l_peliculas_s)]\n",
        "\n",
        "    ## eliminar clean_title y movie_id\n",
        "    peliculas_ns = peliculas_ns.drop(columns=['movie_id','clean_title'])\n",
        "\n",
        "    ### entrenar modelo\n",
        "    model = neighbors.NearestNeighbors(n_neighbors=20, metric='cosine')\n",
        "    model.fit(peliculas_ns)\n",
        "    dist, idlist = model.kneighbors(centroide)\n",
        "    ids=idlist[0] ### queda en un array anidado, para sacarlo\n",
        "    recomend_movies = movies.loc[ids][['clean_title','movie_id']]\n",
        "    vistas = movies[movies['movie_id'].isin(l_peliculas_s)][['clean_title','movie_id']]\n",
        "    return recomend_movies"
      ]
    },
    {
      "cell_type": "code",
      "execution_count": 21,
      "metadata": {},
      "outputs": [
        {
          "data": {
            "application/vnd.jupyter.widget-view+json": {
              "model_id": "9fb8168a34ba4d51a6fabb1851b9d674",
              "version_major": 2,
              "version_minor": 0
            },
            "text/plain": [
              "interactive(children=(Dropdown(description='user_id', options=(1, 395, 411, 410, 409, 408, 405, 404, 403, 402,…"
            ]
          },
          "metadata": {},
          "output_type": "display_data"
        },
        {
          "name": "stdout",
          "output_type": "stream",
          "text": [
            "<function recomendar at 0x000001E800E67820>\n"
          ]
        }
      ],
      "source": [
        "print(interact(recomendar))"
      ]
    }
  ],
  "metadata": {
    "colab": {
      "provenance": []
    },
    "kernelspec": {
      "display_name": "my_env",
      "language": "python",
      "name": "python3"
    },
    "language_info": {
      "codemirror_mode": {
        "name": "ipython",
        "version": 3
      },
      "file_extension": ".py",
      "mimetype": "text/x-python",
      "name": "python",
      "nbconvert_exporter": "python",
      "pygments_lexer": "ipython3",
      "version": "3.9.20"
    }
  },
  "nbformat": 4,
  "nbformat_minor": 0
}
